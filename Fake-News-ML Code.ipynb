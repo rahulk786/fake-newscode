{
 "cells": [
  {
   "cell_type": "markdown",
   "metadata": {
    "_cell_guid": "f5a1ffb5-3720-4ced-892d-fd053f818f2d",
    "_uuid": "d2633992-2578-4292-8893-876ac882af34"
   },
   "source": [
    "## Import Library and Initialize Global Variables"
   ]
  },
  {
   "cell_type": "code",
   "execution_count": 7,
   "metadata": {
    "_cell_guid": "bea5f60a-3859-4fa4-b3ec-acb332b1de56",
    "_uuid": "946fc36e-686f-44f6-9ced-f48e011f2daa",
    "execution": {
     "iopub.execute_input": "2021-09-28T07:12:30.035287Z",
     "iopub.status.busy": "2021-09-28T07:12:30.034365Z",
     "iopub.status.idle": "2021-09-28T07:12:30.043183Z",
     "shell.execute_reply": "2021-09-28T07:12:30.042367Z",
     "shell.execute_reply.started": "2021-09-28T07:12:30.035216Z"
    },
    "jupyter": {
     "outputs_hidden": false
    }
   },
   "outputs": [],
   "source": [
    "import pandas as pd\n",
    "import numpy as np\n",
    "import matplotlib.pyplot as plt\n",
    "import seaborn as sns\n",
    "\n",
    "from sklearn.model_selection import train_test_split, GridSearchCV, cross_val_score, KFold\n",
    "from sklearn.preprocessing import StandardScaler, MinMaxScaler\n",
    "from sklearn.metrics import classification_report, confusion_matrix, accuracy_score, f1_score,\\\n",
    "                            precision_score, recall_score, roc_curve,\\\n",
    "                            roc_auc_score, plot_roc_curve, plot_precision_recall_curve\n",
    "from sklearn.linear_model import LogisticRegression\n",
    "from sklearn.neighbors import KNeighborsClassifier\n",
    "from sklearn.naive_bayes import GaussianNB\n",
    "from sklearn.svm import SVC\n",
    "from sklearn.tree import DecisionTreeClassifier\n",
    "from sklearn.ensemble import RandomForestClassifier\n",
    "from sklearn.neural_network import MLPClassifier\n",
    "\n",
    "import warnings\n",
    "warnings.filterwarnings('ignore')\n",
    "\n",
    "SEED = 41\n",
    "\n",
    "from sklearn.feature_extraction.text import CountVectorizer, TfidfVectorizer, ENGLISH_STOP_WORDS\n",
    "from wordcloud import WordCloud, STOPWORDS, ImageColorGenerator"
   ]
  },
  {
   "cell_type": "code",
   "execution_count": 2,
   "metadata": {},
   "outputs": [
    {
     "name": "stdout",
     "output_type": "stream",
     "text": [
      "/home/ec2-user/anaconda3/envs/pytorch_latest_p36/bin/python\n"
     ]
    }
   ],
   "source": [
    "import sys\n",
    "print(sys.executable)"
   ]
  },
  {
   "cell_type": "code",
   "execution_count": 6,
   "metadata": {},
   "outputs": [
    {
     "name": "stdout",
     "output_type": "stream",
     "text": [
      "Collecting wordcloud\n",
      "  Downloading wordcloud-1.8.1-cp36-cp36m-manylinux1_x86_64.whl (366 kB)\n",
      "\u001b[K     |████████████████████████████████| 366 kB 4.9 MB/s eta 0:00:01\n",
      "\u001b[?25hRequirement already satisfied: pillow in /home/ec2-user/anaconda3/envs/pytorch_latest_p36/lib/python3.6/site-packages (from wordcloud) (8.3.2)\n",
      "Requirement already satisfied: matplotlib in /home/ec2-user/anaconda3/envs/pytorch_latest_p36/lib/python3.6/site-packages (from wordcloud) (3.3.4)\n",
      "Requirement already satisfied: numpy>=1.6.1 in /home/ec2-user/anaconda3/envs/pytorch_latest_p36/lib/python3.6/site-packages (from wordcloud) (1.19.2)\n",
      "Requirement already satisfied: kiwisolver>=1.0.1 in /home/ec2-user/anaconda3/envs/pytorch_latest_p36/lib/python3.6/site-packages (from matplotlib->wordcloud) (1.3.1)\n",
      "Requirement already satisfied: cycler>=0.10 in /home/ec2-user/anaconda3/envs/pytorch_latest_p36/lib/python3.6/site-packages (from matplotlib->wordcloud) (0.10.0)\n",
      "Requirement already satisfied: python-dateutil>=2.1 in /home/ec2-user/anaconda3/envs/pytorch_latest_p36/lib/python3.6/site-packages (from matplotlib->wordcloud) (2.8.1)\n",
      "Requirement already satisfied: pyparsing!=2.0.4,!=2.1.2,!=2.1.6,>=2.0.3 in /home/ec2-user/anaconda3/envs/pytorch_latest_p36/lib/python3.6/site-packages (from matplotlib->wordcloud) (2.4.7)\n",
      "Requirement already satisfied: six in /home/ec2-user/anaconda3/envs/pytorch_latest_p36/lib/python3.6/site-packages (from cycler>=0.10->matplotlib->wordcloud) (1.15.0)\n",
      "Installing collected packages: wordcloud\n",
      "Successfully installed wordcloud-1.8.1\n",
      "\u001b[33mWARNING: You are using pip version 21.2.4; however, version 21.3 is available.\n",
      "You should consider upgrading via the '/home/ec2-user/anaconda3/envs/pytorch_latest_p36/bin/python -m pip install --upgrade pip' command.\u001b[0m\n",
      "Note: you may need to restart the kernel to use updated packages.\n"
     ]
    }
   ],
   "source": [
    "pip install wordcloud"
   ]
  },
  {
   "cell_type": "markdown",
   "metadata": {
    "_cell_guid": "5c99b0d0-76ed-4d80-b70a-6cd4a61b4389",
    "_uuid": "8fa93c62-87ef-4895-a072-7c345991372f"
   },
   "source": [
    "## Load Database/Import Data"
   ]
  },
  {
   "cell_type": "code",
   "execution_count": 8,
   "metadata": {
    "_cell_guid": "94237fc6-72f3-4bbb-8db0-1245f9f34a08",
    "_uuid": "95966cbc-2b9d-4a56-99e1-f7dd689b3763",
    "execution": {
     "iopub.execute_input": "2021-09-28T07:12:30.045506Z",
     "iopub.status.busy": "2021-09-28T07:12:30.044697Z",
     "iopub.status.idle": "2021-09-28T07:12:32.800343Z",
     "shell.execute_reply": "2021-09-28T07:12:32.799405Z",
     "shell.execute_reply.started": "2021-09-28T07:12:30.045462Z"
    },
    "jupyter": {
     "outputs_hidden": false
    }
   },
   "outputs": [
    {
     "data": {
      "text/html": [
       "<div>\n",
       "<style scoped>\n",
       "    .dataframe tbody tr th:only-of-type {\n",
       "        vertical-align: middle;\n",
       "    }\n",
       "\n",
       "    .dataframe tbody tr th {\n",
       "        vertical-align: top;\n",
       "    }\n",
       "\n",
       "    .dataframe thead th {\n",
       "        text-align: right;\n",
       "    }\n",
       "</style>\n",
       "<table border=\"1\" class=\"dataframe\">\n",
       "  <thead>\n",
       "    <tr style=\"text-align: right;\">\n",
       "      <th></th>\n",
       "      <th>id</th>\n",
       "      <th>title</th>\n",
       "      <th>author</th>\n",
       "      <th>text</th>\n",
       "      <th>label</th>\n",
       "    </tr>\n",
       "  </thead>\n",
       "  <tbody>\n",
       "    <tr>\n",
       "      <th>0</th>\n",
       "      <td>0</td>\n",
       "      <td>House Dem Aide: We Didn’t Even See Comey’s Let...</td>\n",
       "      <td>Darrell Lucus</td>\n",
       "      <td>House Dem Aide: We Didn’t Even See Comey’s Let...</td>\n",
       "      <td>1</td>\n",
       "    </tr>\n",
       "    <tr>\n",
       "      <th>1</th>\n",
       "      <td>1</td>\n",
       "      <td>FLYNN: Hillary Clinton, Big Woman on Campus - ...</td>\n",
       "      <td>Daniel J. Flynn</td>\n",
       "      <td>Ever get the feeling your life circles the rou...</td>\n",
       "      <td>0</td>\n",
       "    </tr>\n",
       "    <tr>\n",
       "      <th>2</th>\n",
       "      <td>2</td>\n",
       "      <td>Why the Truth Might Get You Fired</td>\n",
       "      <td>Consortiumnews.com</td>\n",
       "      <td>Why the Truth Might Get You Fired October 29, ...</td>\n",
       "      <td>1</td>\n",
       "    </tr>\n",
       "    <tr>\n",
       "      <th>3</th>\n",
       "      <td>3</td>\n",
       "      <td>15 Civilians Killed In Single US Airstrike Hav...</td>\n",
       "      <td>Jessica Purkiss</td>\n",
       "      <td>Videos 15 Civilians Killed In Single US Airstr...</td>\n",
       "      <td>1</td>\n",
       "    </tr>\n",
       "    <tr>\n",
       "      <th>4</th>\n",
       "      <td>4</td>\n",
       "      <td>Iranian woman jailed for fictional unpublished...</td>\n",
       "      <td>Howard Portnoy</td>\n",
       "      <td>Print \\nAn Iranian woman has been sentenced to...</td>\n",
       "      <td>1</td>\n",
       "    </tr>\n",
       "  </tbody>\n",
       "</table>\n",
       "</div>"
      ],
      "text/plain": [
       "   id                                              title              author  \\\n",
       "0   0  House Dem Aide: We Didn’t Even See Comey’s Let...       Darrell Lucus   \n",
       "1   1  FLYNN: Hillary Clinton, Big Woman on Campus - ...     Daniel J. Flynn   \n",
       "2   2                  Why the Truth Might Get You Fired  Consortiumnews.com   \n",
       "3   3  15 Civilians Killed In Single US Airstrike Hav...     Jessica Purkiss   \n",
       "4   4  Iranian woman jailed for fictional unpublished...      Howard Portnoy   \n",
       "\n",
       "                                                text  label  \n",
       "0  House Dem Aide: We Didn’t Even See Comey’s Let...      1  \n",
       "1  Ever get the feeling your life circles the rou...      0  \n",
       "2  Why the Truth Might Get You Fired October 29, ...      1  \n",
       "3  Videos 15 Civilians Killed In Single US Airstr...      1  \n",
       "4  Print \\nAn Iranian woman has been sentenced to...      1  "
      ]
     },
     "execution_count": 8,
     "metadata": {},
     "output_type": "execute_result"
    }
   ],
   "source": [
    "df = pd.read_csv(\"train.csv\")\n",
    "df.head()"
   ]
  },
  {
   "cell_type": "markdown",
   "metadata": {
    "_cell_guid": "377fe96c-7d23-4846-a560-87171f588cc1",
    "_uuid": "6fdc2e84-46b8-47c6-8af3-26af8f2a686d"
   },
   "source": [
    "## Exploratory Data Analysis (EDA)"
   ]
  },
  {
   "cell_type": "code",
   "execution_count": 9,
   "metadata": {
    "_cell_guid": "9013d489-3584-441e-85fc-795e8ca090d8",
    "_uuid": "279bfe9e-94f7-4d08-9d98-7b17fd0cc9b2",
    "execution": {
     "iopub.execute_input": "2021-09-28T07:12:32.802086Z",
     "iopub.status.busy": "2021-09-28T07:12:32.801836Z",
     "iopub.status.idle": "2021-09-28T07:12:32.832710Z",
     "shell.execute_reply": "2021-09-28T07:12:32.832061Z",
     "shell.execute_reply.started": "2021-09-28T07:12:32.802058Z"
    },
    "jupyter": {
     "outputs_hidden": false
    }
   },
   "outputs": [
    {
     "data": {
      "text/html": [
       "<div>\n",
       "<style scoped>\n",
       "    .dataframe tbody tr th:only-of-type {\n",
       "        vertical-align: middle;\n",
       "    }\n",
       "\n",
       "    .dataframe tbody tr th {\n",
       "        vertical-align: top;\n",
       "    }\n",
       "\n",
       "    .dataframe thead th {\n",
       "        text-align: right;\n",
       "    }\n",
       "</style>\n",
       "<table border=\"1\" class=\"dataframe\">\n",
       "  <thead>\n",
       "    <tr style=\"text-align: right;\">\n",
       "      <th></th>\n",
       "      <th>id</th>\n",
       "      <th>label</th>\n",
       "    </tr>\n",
       "  </thead>\n",
       "  <tbody>\n",
       "    <tr>\n",
       "      <th>count</th>\n",
       "      <td>20800.000000</td>\n",
       "      <td>20800.000000</td>\n",
       "    </tr>\n",
       "    <tr>\n",
       "      <th>mean</th>\n",
       "      <td>10399.500000</td>\n",
       "      <td>0.500625</td>\n",
       "    </tr>\n",
       "    <tr>\n",
       "      <th>std</th>\n",
       "      <td>6004.587135</td>\n",
       "      <td>0.500012</td>\n",
       "    </tr>\n",
       "    <tr>\n",
       "      <th>min</th>\n",
       "      <td>0.000000</td>\n",
       "      <td>0.000000</td>\n",
       "    </tr>\n",
       "    <tr>\n",
       "      <th>25%</th>\n",
       "      <td>5199.750000</td>\n",
       "      <td>0.000000</td>\n",
       "    </tr>\n",
       "    <tr>\n",
       "      <th>50%</th>\n",
       "      <td>10399.500000</td>\n",
       "      <td>1.000000</td>\n",
       "    </tr>\n",
       "    <tr>\n",
       "      <th>75%</th>\n",
       "      <td>15599.250000</td>\n",
       "      <td>1.000000</td>\n",
       "    </tr>\n",
       "    <tr>\n",
       "      <th>max</th>\n",
       "      <td>20799.000000</td>\n",
       "      <td>1.000000</td>\n",
       "    </tr>\n",
       "  </tbody>\n",
       "</table>\n",
       "</div>"
      ],
      "text/plain": [
       "                 id         label\n",
       "count  20800.000000  20800.000000\n",
       "mean   10399.500000      0.500625\n",
       "std     6004.587135      0.500012\n",
       "min        0.000000      0.000000\n",
       "25%     5199.750000      0.000000\n",
       "50%    10399.500000      1.000000\n",
       "75%    15599.250000      1.000000\n",
       "max    20799.000000      1.000000"
      ]
     },
     "execution_count": 9,
     "metadata": {},
     "output_type": "execute_result"
    }
   ],
   "source": [
    "df.describe()"
   ]
  },
  {
   "cell_type": "code",
   "execution_count": 10,
   "metadata": {
    "_cell_guid": "92a1b6e1-b7d4-4e87-a0e3-6de1cdedaa63",
    "_uuid": "345a6a8d-5127-468e-818e-7fb9a2c928f4",
    "execution": {
     "iopub.execute_input": "2021-09-28T07:12:32.834279Z",
     "iopub.status.busy": "2021-09-28T07:12:32.833886Z",
     "iopub.status.idle": "2021-09-28T07:12:32.858931Z",
     "shell.execute_reply": "2021-09-28T07:12:32.858249Z",
     "shell.execute_reply.started": "2021-09-28T07:12:32.834234Z"
    },
    "jupyter": {
     "outputs_hidden": false
    }
   },
   "outputs": [
    {
     "name": "stdout",
     "output_type": "stream",
     "text": [
      "<class 'pandas.core.frame.DataFrame'>\n",
      "RangeIndex: 20800 entries, 0 to 20799\n",
      "Data columns (total 5 columns):\n",
      " #   Column  Non-Null Count  Dtype \n",
      "---  ------  --------------  ----- \n",
      " 0   id      20800 non-null  int64 \n",
      " 1   title   20242 non-null  object\n",
      " 2   author  18843 non-null  object\n",
      " 3   text    20761 non-null  object\n",
      " 4   label   20800 non-null  int64 \n",
      "dtypes: int64(2), object(3)\n",
      "memory usage: 812.6+ KB\n"
     ]
    }
   ],
   "source": [
    "df.info()"
   ]
  },
  {
   "cell_type": "code",
   "execution_count": 11,
   "metadata": {
    "_cell_guid": "34b6fe70-7173-4aeb-8bfd-c779546fabec",
    "_uuid": "7f4b63ab-65d2-42e6-9d3b-bfb59f7d9674",
    "execution": {
     "iopub.execute_input": "2021-09-28T07:12:32.861112Z",
     "iopub.status.busy": "2021-09-28T07:12:32.860691Z",
     "iopub.status.idle": "2021-09-28T07:12:32.866958Z",
     "shell.execute_reply": "2021-09-28T07:12:32.865592Z",
     "shell.execute_reply.started": "2021-09-28T07:12:32.861067Z"
    },
    "jupyter": {
     "outputs_hidden": false
    }
   },
   "outputs": [
    {
     "data": {
      "text/plain": [
       "(20800, 5)"
      ]
     },
     "execution_count": 11,
     "metadata": {},
     "output_type": "execute_result"
    }
   ],
   "source": [
    "df.shape\n",
    "#rows and columns"
   ]
  },
  {
   "cell_type": "code",
   "execution_count": 12,
   "metadata": {
    "_cell_guid": "6f9d9bf7-ae9f-4332-b611-707debaadd0c",
    "_uuid": "e93380ca-282e-4d0b-b352-fd9901000ea8",
    "execution": {
     "iopub.execute_input": "2021-09-28T07:12:32.868332Z",
     "iopub.status.busy": "2021-09-28T07:12:32.868070Z",
     "iopub.status.idle": "2021-09-28T07:12:32.894605Z",
     "shell.execute_reply": "2021-09-28T07:12:32.893792Z",
     "shell.execute_reply.started": "2021-09-28T07:12:32.868304Z"
    },
    "jupyter": {
     "outputs_hidden": false
    }
   },
   "outputs": [
    {
     "data": {
      "text/plain": [
       "id           0\n",
       "title      558\n",
       "author    1957\n",
       "text        39\n",
       "label        0\n",
       "dtype: int64"
      ]
     },
     "execution_count": 12,
     "metadata": {},
     "output_type": "execute_result"
    }
   ],
   "source": [
    "df.isnull().sum()"
   ]
  },
  {
   "cell_type": "code",
   "execution_count": 13,
   "metadata": {
    "_cell_guid": "b233305c-f043-4e8e-81db-d78953298cda",
    "_uuid": "f34d69dd-3f3a-483d-b450-c5525697ed05",
    "execution": {
     "iopub.execute_input": "2021-09-28T07:12:32.896139Z",
     "iopub.status.busy": "2021-09-28T07:12:32.895925Z",
     "iopub.status.idle": "2021-09-28T07:12:32.915921Z",
     "shell.execute_reply": "2021-09-28T07:12:32.914950Z",
     "shell.execute_reply.started": "2021-09-28T07:12:32.896115Z"
    },
    "jupyter": {
     "outputs_hidden": false
    }
   },
   "outputs": [],
   "source": [
    "df=df.dropna()"
   ]
  },
  {
   "cell_type": "code",
   "execution_count": 14,
   "metadata": {
    "_cell_guid": "c4565f9c-f67d-4165-85ee-b3af6a44b9e6",
    "_uuid": "02b76e17-559d-44b5-b01b-8710456e39d5",
    "execution": {
     "iopub.execute_input": "2021-09-28T07:12:32.917986Z",
     "iopub.status.busy": "2021-09-28T07:12:32.917665Z",
     "iopub.status.idle": "2021-09-28T07:12:32.942199Z",
     "shell.execute_reply": "2021-09-28T07:12:32.941376Z",
     "shell.execute_reply.started": "2021-09-28T07:12:32.917953Z"
    },
    "jupyter": {
     "outputs_hidden": false
    }
   },
   "outputs": [
    {
     "data": {
      "text/plain": [
       "id        0\n",
       "title     0\n",
       "author    0\n",
       "text      0\n",
       "label     0\n",
       "dtype: int64"
      ]
     },
     "execution_count": 14,
     "metadata": {},
     "output_type": "execute_result"
    }
   ],
   "source": [
    "df.isnull().sum()"
   ]
  },
  {
   "cell_type": "code",
   "execution_count": 15,
   "metadata": {
    "_cell_guid": "a6e05e84-493d-4fef-929c-7997b0b31f11",
    "_uuid": "8d3758d6-621f-4557-b12c-f9f3c10dc54a",
    "execution": {
     "iopub.execute_input": "2021-09-28T07:12:32.943932Z",
     "iopub.status.busy": "2021-09-28T07:12:32.943641Z",
     "iopub.status.idle": "2021-09-28T07:12:33.222543Z",
     "shell.execute_reply": "2021-09-28T07:12:33.221631Z",
     "shell.execute_reply.started": "2021-09-28T07:12:32.943903Z"
    },
    "jupyter": {
     "outputs_hidden": false
    }
   },
   "outputs": [
    {
     "data": {
      "text/plain": [
       "<AxesSubplot:>"
      ]
     },
     "execution_count": 15,
     "metadata": {},
     "output_type": "execute_result"
    },
    {
     "data": {
      "image/png": "[encoded data removed]",
      "text/plain": [
       "<Figure size 432x288 with 1 Axes>"
      ]
     },
     "metadata": {
      "needs_background": "light"
     },
     "output_type": "display_data"
    }
   ],
   "source": [
    "df['label'].hist()"
   ]
  },
  {
   "cell_type": "code",
   "execution_count": 16,
   "metadata": {
    "_cell_guid": "3df5ad6b-5f4a-4c7e-a730-6f4be55b3869",
    "_uuid": "fd9c125a-a040-4e9f-9f51-7ba3ff2fa54f",
    "execution": {
     "iopub.execute_input": "2021-09-28T07:12:33.223951Z",
     "iopub.status.busy": "2021-09-28T07:12:33.223685Z",
     "iopub.status.idle": "2021-09-28T07:12:33.492407Z",
     "shell.execute_reply": "2021-09-28T07:12:33.491820Z",
     "shell.execute_reply.started": "2021-09-28T07:12:33.223922Z"
    },
    "jupyter": {
     "outputs_hidden": false
    }
   },
   "outputs": [
    {
     "data": {
      "image/png": "[encoded data removed]",
      "text/plain": [
       "<Figure size 432x288 with 1 Axes>"
      ]
     },
     "metadata": {
      "needs_background": "light"
     },
     "output_type": "display_data"
    }
   ],
   "source": [
    "_ = sns.countplot(x=\"label\", data=df)"
   ]
  },
  {
   "cell_type": "code",
   "execution_count": 17,
   "metadata": {
    "_cell_guid": "437a029a-0624-43d2-968e-f14719a86e4a",
    "_uuid": "159f2c7b-27e0-4d35-962d-76e3bf5e6115",
    "execution": {
     "iopub.execute_input": "2021-09-28T07:12:33.496344Z",
     "iopub.status.busy": "2021-09-28T07:12:33.495946Z",
     "iopub.status.idle": "2021-09-28T07:12:34.066351Z",
     "shell.execute_reply": "2021-09-28T07:12:34.065529Z",
     "shell.execute_reply.started": "2021-09-28T07:12:33.496298Z"
    },
    "jupyter": {
     "outputs_hidden": false
    }
   },
   "outputs": [
    {
     "data": {
      "image/png": "[encoded data removed]",
      "text/plain": [
       "<Figure size 432x288 with 1 Axes>"
      ]
     },
     "metadata": {
      "needs_background": "light"
     },
     "output_type": "display_data"
    }
   ],
   "source": [
    "# WordCloud\n",
    "text = df.text[0]\n",
    "wordcloud = WordCloud().generate(text)\n",
    "plt.imshow(wordcloud, interpolation='bilinear')\n",
    "plt.axis(\"off\")\n",
    "plt.show()"
   ]
  },
  {
   "cell_type": "code",
   "execution_count": 18,
   "metadata": {
    "_cell_guid": "3c038ef9-9403-4eee-8ed2-6e24f201fb75",
    "_uuid": "54834ee2-19fd-4c13-96c9-efbd4f67b31f",
    "execution": {
     "iopub.execute_input": "2021-09-28T07:12:34.068006Z",
     "iopub.status.busy": "2021-09-28T07:12:34.067509Z",
     "iopub.status.idle": "2021-09-28T07:12:34.082040Z",
     "shell.execute_reply": "2021-09-28T07:12:34.081138Z",
     "shell.execute_reply.started": "2021-09-28T07:12:34.067965Z"
    },
    "jupyter": {
     "outputs_hidden": false
    }
   },
   "outputs": [
    {
     "name": "stdout",
     "output_type": "stream",
     "text": [
      "          id                                              title  \\\n",
      "0          0  House Dem Aide: We Didn’t Even See Comey’s Let...   \n",
      "2          2                  Why the Truth Might Get You Fired   \n",
      "3          3  15 Civilians Killed In Single US Airstrike Hav...   \n",
      "4          4  Iranian woman jailed for fictional unpublished...   \n",
      "12        12  Russian Researchers Discover Secret Nazi Milit...   \n",
      "...      ...                                                ...   \n",
      "20788  20788  Maine’s Gov. LePage Threatens To ‘Investigate’...   \n",
      "20791  20791  Lawyer Who Kept Hillary Campaign Chief Out of ...   \n",
      "20793  20793  Idiot Who Destroyed Trump Hollywood Star Gets ...   \n",
      "20798  20798  NATO, Russia To Hold Parallel Exercises In Bal...   \n",
      "20799  20799                          What Keeps the F-35 Alive   \n",
      "\n",
      "                   author                                               text  \\\n",
      "0           Darrell Lucus  House Dem Aide: We Didn’t Even See Comey’s Let...   \n",
      "2      Consortiumnews.com  Why the Truth Might Get You Fired October 29, ...   \n",
      "3         Jessica Purkiss  Videos 15 Civilians Killed In Single US Airstr...   \n",
      "4          Howard Portnoy  Print \\nAn Iranian woman has been sentenced to...   \n",
      "12          Amando Flavio  The mystery surrounding The Third Reich and Na...   \n",
      "...                   ...                                                ...   \n",
      "20788           Joe Clark  Google Pinterest Digg Linkedin Reddit Stumbleu...   \n",
      "20791   Daniel Greenfield  Lawyer Who Kept Hillary Campaign Chief Out of ...   \n",
      "20793         Robert Rich  Share This \\nAlthough the vandal who thought i...   \n",
      "20798         Alex Ansary  NATO, Russia To Hold Parallel Exercises In Bal...   \n",
      "20799       David Swanson    David Swanson is an author, activist, journa...   \n",
      "\n",
      "       label  \n",
      "0          1  \n",
      "2          1  \n",
      "3          1  \n",
      "4          1  \n",
      "12         1  \n",
      "...      ...  \n",
      "20788      1  \n",
      "20791      1  \n",
      "20793      1  \n",
      "20798      1  \n",
      "20799      1  \n",
      "\n",
      "[7924 rows x 5 columns]\n"
     ]
    }
   ],
   "source": [
    "label1_df = df[df['label'] == 1]\n",
    "print (label1_df)"
   ]
  },
  {
   "cell_type": "markdown",
   "metadata": {
    "_cell_guid": "10c23984-43fb-4f0f-b3e6-e8b9c73d0c9c",
    "_uuid": "e02c0afe-c568-4adf-8c9f-e9791e3d391f"
   },
   "source": [
    "## Data Preprocessing/Feature Engineering"
   ]
  },
  {
   "cell_type": "code",
   "execution_count": 19,
   "metadata": {
    "_cell_guid": "d837ba96-d76c-45cc-94ef-d8563bde4c13",
    "_uuid": "accf1b80-39bd-4005-ac06-bd9d4c219931",
    "execution": {
     "iopub.execute_input": "2021-09-28T07:12:34.084287Z",
     "iopub.status.busy": "2021-09-28T07:12:34.083416Z",
     "iopub.status.idle": "2021-09-28T07:12:34.091875Z",
     "shell.execute_reply": "2021-09-28T07:12:34.091206Z",
     "shell.execute_reply.started": "2021-09-28T07:12:34.084244Z"
    },
    "jupyter": {
     "outputs_hidden": false
    }
   },
   "outputs": [],
   "source": [
    "df.drop(['id','author','title'],axis=1,inplace=True)"
   ]
  },
  {
   "cell_type": "code",
   "execution_count": 20,
   "metadata": {
    "_cell_guid": "2be81b9f-d066-4c5b-82fd-7bb61f9a367f",
    "_uuid": "9f8ca2a1-d7ff-425f-b5eb-47d40299c9dc",
    "execution": {
     "iopub.execute_input": "2021-09-28T07:12:34.093968Z",
     "iopub.status.busy": "2021-09-28T07:12:34.093376Z",
     "iopub.status.idle": "2021-09-28T07:12:34.114443Z",
     "shell.execute_reply": "2021-09-28T07:12:34.113414Z",
     "shell.execute_reply.started": "2021-09-28T07:12:34.093926Z"
    },
    "jupyter": {
     "outputs_hidden": false
    }
   },
   "outputs": [
    {
     "name": "stdout",
     "output_type": "stream",
     "text": [
      "<class 'pandas.core.frame.DataFrame'>\n",
      "Int64Index: 18285 entries, 0 to 20799\n",
      "Data columns (total 2 columns):\n",
      " #   Column  Non-Null Count  Dtype \n",
      "---  ------  --------------  ----- \n",
      " 0   text    18285 non-null  object\n",
      " 1   label   18285 non-null  int64 \n",
      "dtypes: int64(1), object(1)\n",
      "memory usage: 1.0+ MB\n"
     ]
    }
   ],
   "source": [
    "df.info()"
   ]
  },
  {
   "cell_type": "markdown",
   "metadata": {
    "_cell_guid": "00c94a18-3589-453d-834e-4a86152fc9d5",
    "_uuid": "d25fac01-33e7-4018-9ce1-d8da86f8d000"
   },
   "source": [
    "## Model Selection"
   ]
  },
  {
   "cell_type": "markdown",
   "metadata": {
    "_cell_guid": "9ff935f6-b219-4253-a623-61eb46bf2538",
    "_uuid": "af211a12-5dae-4e6f-8766-dd012b25aacc"
   },
   "source": [
    "### Split Data (Features/Target, Train/Validation/Testing)"
   ]
  },
  {
   "cell_type": "code",
   "execution_count": 21,
   "metadata": {
    "_cell_guid": "f90c0a8f-3ae3-4958-ae4f-2bb1fca68ffb",
    "_uuid": "7e2403e6-48cf-4c38-b3e0-da22264f4f57",
    "execution": {
     "iopub.execute_input": "2021-09-28T07:12:34.116751Z",
     "iopub.status.busy": "2021-09-28T07:12:34.116082Z",
     "iopub.status.idle": "2021-09-28T07:12:34.121224Z",
     "shell.execute_reply": "2021-09-28T07:12:34.120378Z",
     "shell.execute_reply.started": "2021-09-28T07:12:34.116707Z"
    },
    "jupyter": {
     "outputs_hidden": false
    }
   },
   "outputs": [],
   "source": [
    "X=df['text']\n",
    "y=df['label']"
   ]
  },
  {
   "cell_type": "code",
   "execution_count": 22,
   "metadata": {
    "_cell_guid": "04dab8b0-fc93-4c2a-9141-d7162d3d2123",
    "_uuid": "32ae565f-9a62-4b28-9897-84be9a4c94cb",
    "execution": {
     "iopub.execute_input": "2021-09-28T07:12:34.123493Z",
     "iopub.status.busy": "2021-09-28T07:12:34.122630Z",
     "iopub.status.idle": "2021-09-28T07:12:34.155702Z",
     "shell.execute_reply": "2021-09-28T07:12:34.154822Z",
     "shell.execute_reply.started": "2021-09-28T07:12:34.123449Z"
    },
    "jupyter": {
     "outputs_hidden": false
    }
   },
   "outputs": [],
   "source": [
    "X_train, X_test, y_train, y_test = train_test_split(X, y, stratify=y, test_size=0.2)"
   ]
  },
  {
   "cell_type": "markdown",
   "metadata": {
    "_cell_guid": "06708bb6-44ed-448d-907e-690d398eb5c2",
    "_uuid": "a521cbb7-3f9c-43d9-8ede-a4aa3f25db45"
   },
   "source": [
    "#### Feature Scaling (Normalization/Standardization)"
   ]
  },
  {
   "cell_type": "code",
   "execution_count": 23,
   "metadata": {
    "_cell_guid": "78610721-7f65-48d2-9590-81608a404518",
    "_uuid": "9f0a6fe4-0d8d-43a1-a3bc-898fc60878f2",
    "execution": {
     "iopub.execute_input": "2021-09-28T07:12:34.158343Z",
     "iopub.status.busy": "2021-09-28T07:12:34.157738Z",
     "iopub.status.idle": "2021-09-28T07:13:08.610296Z",
     "shell.execute_reply": "2021-09-28T07:13:08.609247Z",
     "shell.execute_reply.started": "2021-09-28T07:12:34.158298Z"
    },
    "jupyter": {
     "outputs_hidden": false
    }
   },
   "outputs": [
    {
     "data": {
      "text/plain": [
       "160355"
      ]
     },
     "execution_count": 23,
     "metadata": {},
     "output_type": "execute_result"
    }
   ],
   "source": [
    "#Bag of Words (Bow) method/technique\n",
    "countVect = CountVectorizer()\n",
    "countVect.fit(X)\n",
    "\n",
    "X_train_cv = countVect.transform(X_train)\n",
    "X_test_cv = countVect.transform(X_test)\n",
    "\n",
    "len(countVect.get_feature_names())"
   ]
  },
  {
   "cell_type": "code",
   "execution_count": 24,
   "metadata": {
    "_cell_guid": "1468d0f8-b142-4e8a-a520-f9dfdf9f199d",
    "_uuid": "c576f1e5-538b-44b6-9499-971cfcd4adec",
    "execution": {
     "iopub.execute_input": "2021-09-28T07:13:08.614039Z",
     "iopub.status.busy": "2021-09-28T07:13:08.613754Z",
     "iopub.status.idle": "2021-09-28T07:13:08.620694Z",
     "shell.execute_reply": "2021-09-28T07:13:08.619651Z",
     "shell.execute_reply.started": "2021-09-28T07:13:08.614011Z"
    },
    "jupyter": {
     "outputs_hidden": false
    }
   },
   "outputs": [
    {
     "data": {
      "text/plain": [
       "(14628, 160355)"
      ]
     },
     "execution_count": 24,
     "metadata": {},
     "output_type": "execute_result"
    }
   ],
   "source": [
    "X_train_cv.shape"
   ]
  },
  {
   "cell_type": "markdown",
   "metadata": {
    "_cell_guid": "fa2d0d50-071e-47a9-acf6-e4008a693498",
    "_uuid": "ccb98eb7-1bf0-45f5-8f39-546bd1aa608a"
   },
   "source": [
    "### Train a Baseline Model using Logistic Regression "
   ]
  },
  {
   "cell_type": "code",
   "execution_count": 25,
   "metadata": {
    "_cell_guid": "00e277ba-a78e-4783-9029-7e6232f67f48",
    "_uuid": "c0a86032-00de-4f05-bce2-0acd297f1c30",
    "execution": {
     "iopub.execute_input": "2021-09-28T07:13:49.959006Z",
     "iopub.status.busy": "2021-09-28T07:13:49.958688Z",
     "iopub.status.idle": "2021-09-28T07:13:58.576041Z",
     "shell.execute_reply": "2021-09-28T07:13:58.575146Z",
     "shell.execute_reply.started": "2021-09-28T07:13:49.958974Z"
    },
    "jupyter": {
     "outputs_hidden": false
    }
   },
   "outputs": [
    {
     "name": "stdout",
     "output_type": "stream",
     "text": [
      "CPU times: user 9.02 s, sys: 147 ms, total: 9.17 s\n",
      "Wall time: 6.88 s\n"
     ]
    },
    {
     "data": {
      "text/plain": [
       "LogisticRegression()"
      ]
     },
     "execution_count": 25,
     "metadata": {},
     "output_type": "execute_result"
    }
   ],
   "source": [
    "%%time\n",
    "lr = LogisticRegression()\n",
    "lr.fit(X_train_cv, y_train)"
   ]
  },
  {
   "cell_type": "code",
   "execution_count": 26,
   "metadata": {
    "_cell_guid": "f5576904-6148-4581-9425-ce6b4e733403",
    "_uuid": "b72639c7-953d-472a-ada6-7fee4d80a333",
    "execution": {
     "iopub.execute_input": "2021-09-28T07:13:17.258039Z",
     "iopub.status.busy": "2021-09-28T07:13:17.257467Z",
     "iopub.status.idle": "2021-09-28T07:13:17.303896Z",
     "shell.execute_reply": "2021-09-28T07:13:17.301092Z",
     "shell.execute_reply.started": "2021-09-28T07:13:17.257988Z"
    },
    "jupyter": {
     "outputs_hidden": false
    }
   },
   "outputs": [
    {
     "name": "stdout",
     "output_type": "stream",
     "text": [
      "              precision    recall  f1-score   support\n",
      "\n",
      "           0       0.97      0.96      0.97      2072\n",
      "           1       0.95      0.97      0.96      1585\n",
      "\n",
      "    accuracy                           0.96      3657\n",
      "   macro avg       0.96      0.96      0.96      3657\n",
      "weighted avg       0.96      0.96      0.96      3657\n",
      "\n"
     ]
    }
   ],
   "source": [
    "y_pred = lr.predict(X_test_cv)\n",
    "y_pred_proba = lr.predict_proba(X_test_cv)\n",
    "print(classification_report(y_test, y_pred))"
   ]
  },
  {
   "cell_type": "code",
   "execution_count": 27,
   "metadata": {
    "_cell_guid": "ea2871ab-329f-47cb-812f-c94b0be1b984",
    "_uuid": "8c805901-069a-4d50-a31c-864db953787a",
    "execution": {
     "iopub.status.busy": "2021-09-28T07:13:17.305382Z",
     "iopub.status.idle": "2021-09-28T07:13:17.306109Z",
     "shell.execute_reply": "2021-09-28T07:13:17.305815Z",
     "shell.execute_reply.started": "2021-09-28T07:13:17.305786Z"
    },
    "jupyter": {
     "outputs_hidden": false
    }
   },
   "outputs": [],
   "source": [
    "#Logistic regression score"
   ]
  },
  {
   "cell_type": "code",
   "execution_count": 28,
   "metadata": {
    "_cell_guid": "28cf64e6-d426-4d84-b60f-93f1b5685a59",
    "_uuid": "00688a0a-7d2e-4be6-bb06-2f788c14db8e",
    "execution": {
     "iopub.status.busy": "2021-09-28T07:13:17.307821Z",
     "iopub.status.idle": "2021-09-28T07:13:17.308656Z",
     "shell.execute_reply": "2021-09-28T07:13:17.308378Z",
     "shell.execute_reply.started": "2021-09-28T07:13:17.308346Z"
    },
    "jupyter": {
     "outputs_hidden": false
    }
   },
   "outputs": [],
   "source": [
    "y_pred = lr.predict(X_train_cv)\n",
    "train_accuracy = accuracy_score(y_train,y_pred)"
   ]
  },
  {
   "cell_type": "code",
   "execution_count": 29,
   "metadata": {
    "_cell_guid": "0f41069c-f509-46c5-8158-1d93a02c224a",
    "_uuid": "56a5bcdf-076c-4085-a35b-3f4ddc425b91",
    "execution": {
     "iopub.status.busy": "2021-09-28T07:13:17.310226Z",
     "iopub.status.idle": "2021-09-28T07:13:17.311013Z",
     "shell.execute_reply": "2021-09-28T07:13:17.310744Z",
     "shell.execute_reply.started": "2021-09-28T07:13:17.310714Z"
    },
    "jupyter": {
     "outputs_hidden": false
    }
   },
   "outputs": [
    {
     "name": "stdout",
     "output_type": "stream",
     "text": [
      "train accuracy score :  0.999658189773038\n"
     ]
    }
   ],
   "source": [
    "print('train accuracy score : ', train_accuracy)"
   ]
  },
  {
   "cell_type": "code",
   "execution_count": 30,
   "metadata": {
    "_cell_guid": "fb086f50-408f-4565-8282-cab8d00c20c1",
    "_uuid": "9b122436-aae0-41ef-a9a1-aaa63ce0dc21",
    "execution": {
     "iopub.status.busy": "2021-09-28T07:13:17.312213Z",
     "iopub.status.idle": "2021-09-28T07:13:17.312735Z",
     "shell.execute_reply": "2021-09-28T07:13:17.312572Z",
     "shell.execute_reply.started": "2021-09-28T07:13:17.312547Z"
    },
    "jupyter": {
     "outputs_hidden": false
    }
   },
   "outputs": [
    {
     "name": "stdout",
     "output_type": "stream",
     "text": [
      "CPU times: user 50.5 s, sys: 53.4 ms, total: 50.6 s\n",
      "Wall time: 50.6 s\n"
     ]
    },
    {
     "data": {
      "text/plain": [
       "RandomForestClassifier()"
      ]
     },
     "execution_count": 30,
     "metadata": {},
     "output_type": "execute_result"
    }
   ],
   "source": [
    "%%time\n",
    "rf = RandomForestClassifier()\n",
    "rf.fit(X_train_cv, y_train)"
   ]
  },
  {
   "cell_type": "code",
   "execution_count": null,
   "metadata": {
    "_cell_guid": "72d15908-4b33-4a79-8bb8-620c0199928a",
    "_uuid": "54b5a34f-c2af-47cf-bf1a-f71d5488c6a6",
    "execution": {
     "iopub.status.busy": "2021-09-28T07:13:17.313710Z",
     "iopub.status.idle": "2021-09-28T07:13:17.314246Z",
     "shell.execute_reply": "2021-09-28T07:13:17.314084Z",
     "shell.execute_reply.started": "2021-09-28T07:13:17.314061Z"
    },
    "jupyter": {
     "outputs_hidden": false
    }
   },
   "outputs": [],
   "source": [
    "y_pred = rf.predict(X_test_cv)\n",
    "y_pred_proba = rf.predict_proba(X_test_cv)\n",
    "print(classification_report(y_test, y_pred))"
   ]
  },
  {
   "cell_type": "code",
   "execution_count": null,
   "metadata": {
    "_cell_guid": "8f5e7962-d96c-4b86-bdd7-44a746cd1b4f",
    "_uuid": "b1f0808d-9ebe-49b8-a924-39172012b97f",
    "execution": {
     "iopub.status.busy": "2021-09-28T07:13:17.315204Z",
     "iopub.status.idle": "2021-09-28T07:13:17.315712Z",
     "shell.execute_reply": "2021-09-28T07:13:17.315551Z",
     "shell.execute_reply.started": "2021-09-28T07:13:17.315529Z"
    },
    "jupyter": {
     "outputs_hidden": false
    }
   },
   "outputs": [],
   "source": [
    "#Random Forest results"
   ]
  },
  {
   "cell_type": "code",
   "execution_count": null,
   "metadata": {
    "_cell_guid": "8a0a6507-4f84-473e-995a-a361a3fe39f8",
    "_uuid": "72bb6d00-85f4-4e44-8f11-87b90ec95ca8",
    "execution": {
     "iopub.status.busy": "2021-09-28T07:13:17.316863Z",
     "iopub.status.idle": "2021-09-28T07:13:17.317399Z",
     "shell.execute_reply": "2021-09-28T07:13:17.317235Z",
     "shell.execute_reply.started": "2021-09-28T07:13:17.317213Z"
    },
    "jupyter": {
     "outputs_hidden": false
    }
   },
   "outputs": [],
   "source": [
    "%%time\n",
    "svm = SVC()\n",
    "svm.fit(X_train_cv, y_train)"
   ]
  },
  {
   "cell_type": "code",
   "execution_count": null,
   "metadata": {
    "_cell_guid": "775acb78-bc01-4ad7-afb1-89e293555010",
    "_uuid": "a678bbba-16dc-42d6-a6e4-7bd15b80b2c1",
    "execution": {
     "iopub.status.busy": "2021-09-28T07:13:17.318378Z",
     "iopub.status.idle": "2021-09-28T07:13:17.318901Z",
     "shell.execute_reply": "2021-09-28T07:13:17.318722Z",
     "shell.execute_reply.started": "2021-09-28T07:13:17.318701Z"
    },
    "jupyter": {
     "outputs_hidden": false
    }
   },
   "outputs": [],
   "source": [
    "y_pred = svm.predict(X_test_cv.toarray())\n",
    "print(classification_report(y_test, y_pred))"
   ]
  },
  {
   "cell_type": "code",
   "execution_count": null,
   "metadata": {
    "_cell_guid": "205a2515-d2fa-4c6f-8720-c7ab02d6573f",
    "_uuid": "3a00c9dc-8ebe-4fdb-b72a-b37a82e3e795",
    "jupyter": {
     "outputs_hidden": false
    }
   },
   "outputs": [],
   "source": [
    "\n"
   ]
  },
  {
   "cell_type": "markdown",
   "metadata": {
    "_cell_guid": "efe300b9-7884-4737-a3f7-7d6dfa89661b",
    "_uuid": "8a926279-a66b-4bbe-adf1-4e7a33d3c2b1"
   },
   "source": [
    "### Train a Baseline Model using Logistic Regression with TF-IDF technique"
   ]
  },
  {
   "cell_type": "code",
   "execution_count": null,
   "metadata": {
    "_cell_guid": "89842a4d-f827-4f23-849d-f7cd641a3530",
    "_uuid": "432de83a-f9a7-4094-9ffe-a4965dcba090",
    "execution": {
     "iopub.status.busy": "2021-09-28T07:13:17.319889Z",
     "iopub.status.idle": "2021-09-28T07:13:17.320397Z",
     "shell.execute_reply": "2021-09-28T07:13:17.320232Z",
     "shell.execute_reply.started": "2021-09-28T07:13:17.320207Z"
    },
    "jupyter": {
     "outputs_hidden": false
    }
   },
   "outputs": [],
   "source": [
    "#TF-IDF method/technique\n",
    "tfidf = TfidfVectorizer()\n",
    "tfidf.fit(X)\n",
    "\n",
    "X_train_cv = tfidf.transform(X_train)\n",
    "X_test_cv = tfidf.transform(X_test)\n",
    "\n",
    "len(tfidf.get_feature_names())"
   ]
  },
  {
   "cell_type": "code",
   "execution_count": null,
   "metadata": {
    "_cell_guid": "aea88a94-6994-4677-a943-973e2fa3a554",
    "_uuid": "dd9dd6a3-eb1a-460c-84e9-53f10c1f5e26",
    "execution": {
     "iopub.status.busy": "2021-09-28T07:13:17.321354Z",
     "iopub.status.idle": "2021-09-28T07:13:17.321866Z",
     "shell.execute_reply": "2021-09-28T07:13:17.321688Z",
     "shell.execute_reply.started": "2021-09-28T07:13:17.321669Z"
    },
    "jupyter": {
     "outputs_hidden": false
    }
   },
   "outputs": [],
   "source": [
    "%%time\n",
    "lr = LogisticRegression()\n",
    "lr.fit(X_train_cv, y_train)"
   ]
  },
  {
   "cell_type": "code",
   "execution_count": null,
   "metadata": {
    "_cell_guid": "60619a73-aecf-470c-9665-b88bd37d84a1",
    "_uuid": "5ad70288-13a2-476d-a3ef-b2048cf307fb",
    "execution": {
     "iopub.status.busy": "2021-09-28T07:13:17.322815Z",
     "iopub.status.idle": "2021-09-28T07:13:17.323311Z",
     "shell.execute_reply": "2021-09-28T07:13:17.323152Z",
     "shell.execute_reply.started": "2021-09-28T07:13:17.323131Z"
    },
    "jupyter": {
     "outputs_hidden": false
    }
   },
   "outputs": [],
   "source": [
    "y_pred = lr.predict(X_test_cv)\n",
    "y_pred_proba = lr.predict_proba(X_test_cv)\n",
    "print(classification_report(y_test, y_pred))"
   ]
  },
  {
   "cell_type": "markdown",
   "metadata": {
    "_cell_guid": "88505265-6b45-4110-b47b-828586e86af6",
    "_uuid": "52aaa48b-3388-4240-bdd6-ab0d72867a29"
   },
   "source": [
    "### Evaluate Multiple Models and Select Best Model"
   ]
  },
  {
   "cell_type": "code",
   "execution_count": 39,
   "metadata": {
    "_cell_guid": "ca004cf4-bc05-4533-8cfc-eac1f2a2d76c",
    "_uuid": "0781fecb-d45d-40c8-a60a-178868eeaae9",
    "jupyter": {
     "outputs_hidden": false
    }
   },
   "outputs": [
    {
     "name": "stdout",
     "output_type": "stream",
     "text": [
      "              precision    recall  f1-score   support\n",
      "\n",
      "           0       0.71      1.00      0.83      2072\n",
      "           1       1.00      0.48      0.65      1585\n",
      "\n",
      "    accuracy                           0.77      3657\n",
      "   macro avg       0.86      0.74      0.74      3657\n",
      "weighted avg       0.84      0.77      0.75      3657\n",
      "\n",
      "Accuracy is : 0.773\n"
     ]
    }
   ],
   "source": [
    "from sklearn.naive_bayes import MultinomialNB\n",
    "nb=MultinomialNB()\n",
    "nb.fit(X_train_cv,y_train)\n",
    "\n",
    "y_pred1=nb.predict(X_test_cv);\n",
    "print(classification_report(y_test, y_pred1))\n",
    "\n",
    "from sklearn.metrics import confusion_matrix\n",
    "from sklearn.metrics import accuracy_score\n",
    "\n",
    "cm=confusion_matrix(y_test,y_pred1);\n",
    "\n",
    "acc=accuracy_score(y_test,y_pred1)\n",
    "print(\"Accuracy is : %0.3f\" % acc)\n"
   ]
  },
  {
   "cell_type": "markdown",
   "metadata": {
    "_cell_guid": "587a7e1e-e92e-41af-bdf1-d252cf0cadb5",
    "_uuid": "9a8baaac-5a5d-4d65-973e-a45c444aa6b5"
   },
   "source": [
    "### Hyperparameter Fine-tuning for final selected model"
   ]
  },
  {
   "cell_type": "code",
   "execution_count": 31,
   "metadata": {
    "_cell_guid": "82b0a0ab-bcf8-4312-ac7c-8e454a93564c",
    "_uuid": "78ed485a-c2de-4343-99b7-5de7f83503ef",
    "execution": {
     "iopub.status.busy": "2021-09-28T07:13:17.334678Z",
     "iopub.status.idle": "2021-09-28T07:13:17.335012Z",
     "shell.execute_reply": "2021-09-28T07:13:17.334862Z",
     "shell.execute_reply.started": "2021-09-28T07:13:17.334840Z"
    },
    "jupyter": {
     "outputs_hidden": false
    }
   },
   "outputs": [
    {
     "data": {
      "text/plain": [
       "160045"
      ]
     },
     "execution_count": 31,
     "metadata": {},
     "output_type": "execute_result"
    }
   ],
   "source": [
    "#TF-IDF method/technique\n",
    "tfidf = TfidfVectorizer(stop_words='english')\n",
    "tfidf.fit(X)\n",
    "\n",
    "X_train_cv = tfidf.transform(X_train)\n",
    "X_test_cv = tfidf.transform(X_test)\n",
    "\n",
    "len(tfidf.get_feature_names())"
   ]
  },
  {
   "cell_type": "code",
   "execution_count": 32,
   "metadata": {
    "_cell_guid": "4ae5300e-aef4-4092-8ef6-5e4fa6147dc6",
    "_uuid": "e0d576d3-e1d1-4266-bdf9-1ad8f63e7444",
    "execution": {
     "iopub.status.busy": "2021-09-28T07:13:17.335893Z",
     "iopub.status.idle": "2021-09-28T07:13:17.336207Z",
     "shell.execute_reply": "2021-09-28T07:13:17.336060Z",
     "shell.execute_reply.started": "2021-09-28T07:13:17.336039Z"
    },
    "jupyter": {
     "outputs_hidden": false
    }
   },
   "outputs": [
    {
     "name": "stdout",
     "output_type": "stream",
     "text": [
      "CPU times: user 3.14 s, sys: 40.2 ms, total: 3.18 s\n",
      "Wall time: 2.38 s\n"
     ]
    },
    {
     "data": {
      "text/plain": [
       "LogisticRegression()"
      ]
     },
     "execution_count": 32,
     "metadata": {},
     "output_type": "execute_result"
    }
   ],
   "source": [
    "%%time\n",
    "lr = LogisticRegression()\n",
    "lr.fit(X_train_cv, y_train)"
   ]
  },
  {
   "cell_type": "code",
   "execution_count": 33,
   "metadata": {
    "_cell_guid": "a4a5e48c-cab2-426a-8923-c87dba7a27db",
    "_uuid": "7d92b963-aa10-4f8e-80b9-219a93fd1176",
    "execution": {
     "iopub.status.busy": "2021-09-28T07:13:17.338601Z",
     "iopub.status.idle": "2021-09-28T07:13:17.338953Z",
     "shell.execute_reply": "2021-09-28T07:13:17.338801Z",
     "shell.execute_reply.started": "2021-09-28T07:13:17.338759Z"
    },
    "jupyter": {
     "outputs_hidden": false
    }
   },
   "outputs": [
    {
     "name": "stdout",
     "output_type": "stream",
     "text": [
      "              precision    recall  f1-score   support\n",
      "\n",
      "           0       0.96      0.96      0.96      2072\n",
      "           1       0.95      0.94      0.95      1585\n",
      "\n",
      "    accuracy                           0.96      3657\n",
      "   macro avg       0.95      0.95      0.95      3657\n",
      "weighted avg       0.96      0.96      0.96      3657\n",
      "\n"
     ]
    }
   ],
   "source": [
    "y_pred = lr.predict(X_test_cv)\n",
    "y_pred_proba = lr.predict_proba(X_test_cv)\n",
    "print(classification_report(y_test, y_pred))"
   ]
  },
  {
   "cell_type": "code",
   "execution_count": null,
   "metadata": {
    "_cell_guid": "4a353a85-762a-471b-bb00-bc20ef2f9029",
    "_uuid": "bfa2bea0-8301-4d48-9b4a-2cccc7e82fa0",
    "execution": {
     "iopub.status.busy": "2021-09-28T07:13:17.340137Z",
     "iopub.status.idle": "2021-09-28T07:13:17.340461Z",
     "shell.execute_reply": "2021-09-28T07:13:17.340311Z",
     "shell.execute_reply.started": "2021-09-28T07:13:17.340290Z"
    },
    "jupyter": {
     "outputs_hidden": false
    }
   },
   "outputs": [],
   "source": [
    "%%time\n",
    "rf = RandomForestClassifier()\n",
    "rf.fit(X_train_cv, y_train)"
   ]
  },
  {
   "cell_type": "code",
   "execution_count": null,
   "metadata": {
    "_cell_guid": "417ba800-1e52-48b3-9683-4fd4b13cc131",
    "_uuid": "07263eec-2d9c-4e29-a661-079177351ca9",
    "execution": {
     "iopub.status.busy": "2021-09-28T07:13:17.341583Z",
     "iopub.status.idle": "2021-09-28T07:13:17.341928Z",
     "shell.execute_reply": "2021-09-28T07:13:17.341756Z",
     "shell.execute_reply.started": "2021-09-28T07:13:17.341735Z"
    },
    "jupyter": {
     "outputs_hidden": false
    }
   },
   "outputs": [],
   "source": [
    "y_pred = rf.predict(X_test_cv)\n",
    "y_pred_proba = rf.predict_proba(X_test_cv)\n",
    "print(classification_report(y_test, y_pred))"
   ]
  },
  {
   "cell_type": "code",
   "execution_count": null,
   "metadata": {
    "_cell_guid": "f4fc7c5a-2bfc-45f1-b8d2-50b01bd49715",
    "_uuid": "862ec36b-7e58-4c81-b5f9-9711d82ece5c",
    "execution": {
     "iopub.status.busy": "2021-09-28T07:13:17.343441Z",
     "iopub.status.idle": "2021-09-28T07:13:17.343761Z",
     "shell.execute_reply": "2021-09-28T07:13:17.343612Z",
     "shell.execute_reply.started": "2021-09-28T07:13:17.343592Z"
    },
    "jupyter": {
     "outputs_hidden": false
    }
   },
   "outputs": [],
   "source": [
    "%%time\n",
    "svm = SVC()\n",
    "svm.fit(X_train_cv, y_train)"
   ]
  },
  {
   "cell_type": "code",
   "execution_count": null,
   "metadata": {
    "_cell_guid": "102ad8ba-cad1-4c69-b181-5a8e15b02857",
    "_uuid": "7f9edf6a-e1c4-4d31-b894-0cc98be8afed",
    "execution": {
     "iopub.status.busy": "2021-09-28T07:13:17.344753Z",
     "iopub.status.idle": "2021-09-28T07:13:17.345084Z",
     "shell.execute_reply": "2021-09-28T07:13:17.344936Z",
     "shell.execute_reply.started": "2021-09-28T07:13:17.344914Z"
    },
    "jupyter": {
     "outputs_hidden": false
    }
   },
   "outputs": [],
   "source": [
    "y_pred = svm.predict(X_test_cv.toarray())\n",
    "print(classification_report(y_test, y_pred))"
   ]
  },
  {
   "cell_type": "code",
   "execution_count": null,
   "metadata": {
    "_cell_guid": "7188f498-ca9b-4de3-9ba3-7412b9724d1d",
    "_uuid": "ee2315ff-4f42-4c87-ba09-4a3e87d5fad8",
    "execution": {
     "iopub.status.busy": "2021-09-28T07:13:17.346402Z",
     "iopub.status.idle": "2021-09-28T07:13:17.346719Z",
     "shell.execute_reply": "2021-09-28T07:13:17.346571Z",
     "shell.execute_reply.started": "2021-09-28T07:13:17.346549Z"
    },
    "jupyter": {
     "outputs_hidden": false
    }
   },
   "outputs": [],
   "source": [
    "# SVM sith Stop words most accurate"
   ]
  },
  {
   "cell_type": "code",
   "execution_count": null,
   "metadata": {
    "_cell_guid": "d6851d0f-269e-4c96-b325-c7a581013fb7",
    "_uuid": "c1923720-1e36-4560-ae7c-39b3f70fee7d",
    "execution": {
     "iopub.status.busy": "2021-09-28T07:13:17.348846Z",
     "iopub.status.idle": "2021-09-28T07:13:17.349175Z",
     "shell.execute_reply": "2021-09-28T07:13:17.349026Z",
     "shell.execute_reply.started": "2021-09-28T07:13:17.349005Z"
    },
    "jupyter": {
     "outputs_hidden": false
    }
   },
   "outputs": [],
   "source": [
    "## Confusion Matrix\n",
    "\n",
    "conf_mat = confusion_matrix(y_test, y_pred)\n",
    "sns.heatmap(conf_mat.T, annot=True, fmt='d', cbar=False, cmap=sns.cubehelix_palette(start=.5, rot=-.5, as_cmap=True),\n",
    "          xticklabels=['No','Yes'],\n",
    "          yticklabels=['No','Yes'] )\n",
    "plt.xlabel('Actuals')\n",
    "plt.ylabel('Predicted')"
   ]
  },
  {
   "cell_type": "code",
   "execution_count": null,
   "metadata": {
    "_cell_guid": "325b06f9-bbda-4f41-bce8-506e07ac7ffa",
    "_uuid": "b9391b78-c572-4b77-ab70-e3118e3c23b1",
    "execution": {
     "iopub.status.busy": "2021-09-28T07:13:17.349965Z",
     "iopub.status.idle": "2021-09-28T07:13:17.350274Z",
     "shell.execute_reply": "2021-09-28T07:13:17.350127Z",
     "shell.execute_reply.started": "2021-09-28T07:13:17.350106Z"
    },
    "jupyter": {
     "outputs_hidden": false
    }
   },
   "outputs": [],
   "source": [
    "#cross-validation score\n",
    "cross_val_score(lr, X_test_cv, y_test, cv=10, scoring = 'accuracy').mean()"
   ]
  },
  {
   "cell_type": "markdown",
   "metadata": {
    "_cell_guid": "9159a17e-1e40-45b8-b993-11f28e31980e",
    "_uuid": "4235a2af-6156-4cba-99f9-28a7d2d1dc8c"
   },
   "source": [
    "## Example"
   ]
  },
  {
   "cell_type": "code",
   "execution_count": null,
   "metadata": {
    "_cell_guid": "83d34919-2350-43ba-8f1b-ed51e5da68d7",
    "_uuid": "42b0ef53-8bcd-497a-82dd-cac21b2f4b72",
    "execution": {
     "iopub.status.busy": "2021-09-28T07:13:17.351470Z",
     "iopub.status.idle": "2021-09-28T07:13:17.351814Z",
     "shell.execute_reply": "2021-09-28T07:13:17.351640Z",
     "shell.execute_reply.started": "2021-09-28T07:13:17.351618Z"
    },
    "jupyter": {
     "outputs_hidden": false
    }
   },
   "outputs": [],
   "source": [
    "def classify_message(text):\n",
    "    text = tfidf.transform(text)\n",
    "    predicted = lr.predict(text)\n",
    "    probability = lr.predict_proba(text).max()*100\n",
    "\n",
    "    if predicted==0:\n",
    "        print(\"not Fake news\")\n",
    "        print('the probability percentage is:',round(probability))\n",
    "    else:\n",
    "        print(\"The news is Fake\")\n",
    "        print('the probability percentage is:',round(probability))"
   ]
  },
  {
   "cell_type": "code",
   "execution_count": null,
   "metadata": {
    "_cell_guid": "10272252-cbbf-42df-8fb2-78059e82a9fd",
    "_uuid": "632a9f34-33a5-4a0a-8252-49152cb9c237",
    "execution": {
     "iopub.status.busy": "2021-09-28T07:13:17.352888Z",
     "iopub.status.idle": "2021-09-28T07:13:17.353203Z",
     "shell.execute_reply": "2021-09-28T07:13:17.353055Z",
     "shell.execute_reply.started": "2021-09-28T07:13:17.353034Z"
    },
    "jupyter": {
     "outputs_hidden": false
    }
   },
   "outputs": [],
   "source": [
    "test = ['Grandiose Ideas for Donald Trump Inaugural Give Way to Traditional - The New York Times']\n",
    "\n",
    "classify_message(test)"
   ]
  },
  {
   "cell_type": "code",
   "execution_count": null,
   "metadata": {
    "_cell_guid": "9414f5d5-df55-43e5-adff-8b672e209abb",
    "_uuid": "8d11640f-25e1-4c83-b811-71457dd98a9b",
    "jupyter": {
     "outputs_hidden": false
    }
   },
   "outputs": [],
   "source": []
  },
  {
   "cell_type": "code",
   "execution_count": null,
   "metadata": {
    "_cell_guid": "595fe02c-4193-490b-851f-3ddecad51280",
    "_uuid": "2bd5a889-7618-4413-8b38-e002eb791e7e",
    "jupyter": {
     "outputs_hidden": false
    }
   },
   "outputs": [],
   "source": []
  }
 ],
 "metadata": {
  "kernelspec": {
   "display_name": "conda_pytorch_latest_p36",
   "language": "python",
   "name": "conda_pytorch_latest_p36"
  },
  "language_info": {
   "codemirror_mode": {
    "name": "ipython",
    "version": 3
   },
   "file_extension": ".py",
   "mimetype": "text/x-python",
   "name": "python",
   "nbconvert_exporter": "python",
   "pygments_lexer": "ipython3",
   "version": "3.6.13"
  }
 },
 "nbformat": 4,
 "nbformat_minor": 4
}
